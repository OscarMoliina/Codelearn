{
 "cells": [
  {
   "cell_type": "markdown",
   "metadata": {},
   "source": [
    "# Projecte Inicial - Penjat\n",
    "\n",
    "Si esteu aquí és perquè ja heu acabat la primera aventura de Python! Enhorabona.\n",
    "\n",
    "Ara us plantegem un repte. Serieu capaços de fer el joc del penjat? Penseu-hi una estona. Bàsicament serà operar amb text, cosa que ja sabeu.\n",
    "\n",
    "**Ànims!**\n",
    "\n",
    "![altext](https://t4.ftcdn.net/jpg/05/17/38/33/360_F_517383341_8nWEFfM1KL3K5LNTjUDrne3x0kZiuxuj.jpg)"
   ]
  },
  {
   "cell_type": "markdown",
   "metadata": {},
   "source": [
    "Per si voleu veure un exemple de com podria funcionar el joc, aquí el teniu:"
   ]
  },
  {
   "cell_type": "code",
   "execution_count": 1,
   "metadata": {},
   "outputs": [
    {
     "name": "stdout",
     "output_type": "stream",
     "text": [
      "La paraula té 4 lletres!\n",
      "-- PROGRÉS ACTUAL --\n",
      "Paraula actual: v___\n",
      " Vides restants: 3\n",
      "-- PROGRÉS ACTUAL --\n",
      "Paraula actual: vi__\n",
      " Vides restants: 3\n",
      "-- PROGRÉS ACTUAL --\n",
      "Paraula actual: vid_\n",
      " Vides restants: 3\n",
      "Felicitats! Heu encertat\n",
      "Efectivament, la paraula oculta era \"vida\"\n"
     ]
    }
   ],
   "source": [
    "from solucio import *\n",
    "play()"
   ]
  },
  {
   "cell_type": "code",
   "execution_count": null,
   "metadata": {},
   "outputs": [],
   "source": [
    "# Escriu aquí el teu codi. Si ho veus necessari, pots crear més cel·les."
   ]
  },
  {
   "cell_type": "markdown",
   "metadata": {},
   "source": [
    "Per als què no sabeu com encarar-ho, aquí teniu una guia.\n",
    "\n",
    "**Nota!** : Abans de mirar la guia, intenta-ho pel teu compte. Sinó, aquí tens una ajuda.\n",
    "\n",
    "## Què necessitem?\n",
    "- Si volem fer un penjat, necessitem que el jugador1 fiqui la seva paraula oculta, que la podem emmagatzemar en una variable.\n",
    "- Un cop ficada aquesta paraula, la podem tapar amb caracters ``\"_\"``. Exemple: Si la paraula oculta és ``'casa'``, allò que veuran els altres jugadors serà ``\"____\"`` \n",
    "- Després també cal tenir un comptador de vides que començarà en 3, o 5, o les que tú decideixis.\n",
    "- Finalment, tindrem un bucle ``while`` que ens permetrà anar ficant lletres fins que els altres jugadors encertin o es quedin sense vides.\n",
    "- Per acabar, mostrarem per pantalla qui ha guanyat. Si el jugador1 o la resta.\n",
    "\n",
    "Per anar ficant les lletres, us deixem aquí la funció ``canvia(oculta, actual, lletra)`` que el què fa és substituir la lletra en qüestió a les posicions que toca (si és que la lletra està en la paraula oculta. Sinó, retorna l'actual)."
   ]
  },
  {
   "cell_type": "code",
   "execution_count": null,
   "metadata": {},
   "outputs": [],
   "source": [
    "def canvia(oculta, actual, lletra):\n",
    "    nova_paraula = ''\n",
    "    for idx,i in enumerate(oculta):\n",
    "        if i == lletra:\n",
    "            nova_paraula += lletra\n",
    "        else:\n",
    "            nova_paraula += actual[idx]\n",
    "    return nova_paraula"
   ]
  },
  {
   "cell_type": "markdown",
   "metadata": {},
   "source": [
    "Exemple d'ús:\n",
    "```python\n",
    ">>> canvia('casa', '____', 'a')\n",
    "'_a_a'\n",
    ">>> canvia('ballarina', 'ba__a___a', 'l')\n",
    "'balla___a'\n",
    ">>> canvia('hola', '_o__', 'o')\n",
    "'_o__'\n",
    "```"
   ]
  },
  {
   "cell_type": "code",
   "execution_count": null,
   "metadata": {},
   "outputs": [],
   "source": [
    "# Escriu aquí el teu codi. Si ho veus necessari, pots crear més cel·les."
   ]
  }
 ],
 "metadata": {
  "kernelspec": {
   "display_name": "Python 3",
   "language": "python",
   "name": "python3"
  },
  "language_info": {
   "codemirror_mode": {
    "name": "ipython",
    "version": 3
   },
   "file_extension": ".py",
   "mimetype": "text/x-python",
   "name": "python",
   "nbconvert_exporter": "python",
   "pygments_lexer": "ipython3",
   "version": "3.10.5"
  },
  "orig_nbformat": 4
 },
 "nbformat": 4,
 "nbformat_minor": 2
}
