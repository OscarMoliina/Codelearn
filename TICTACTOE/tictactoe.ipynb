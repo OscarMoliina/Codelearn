{
 "cells": [
  {
   "attachments": {},
   "cell_type": "markdown",
   "metadata": {},
   "source": [
    "# PROYECTO: Tic-Tac-Toe\n",
    "\n",
    "Este proyecto reemplaza el primer capítulo de la aventura \"El reto final\" de Python que consiste en crear el Tres en Raya como juego de consola sencillo."
   ]
  },
  {
   "attachments": {},
   "cell_type": "markdown",
   "metadata": {},
   "source": [
    "## Paso 1. ¿Qué necesitamos?\n",
    "\n",
    "Vamos a pensar qué funciones necesitaríamos para llevar a cabo este juego:\n",
    "- Tablero o _board_: primero de todo necesitamos un tablero donde jugar. Hay dos formas para crearlo: como una lista de tamaño 9 (una posición por cada casilla en orden) o una **matriz**, que básicamente es una lista que contiene listas. Nosotros haremos esta segunda opción para aprender cómo manejarlas.\n",
    "- Función ``drawBoard()``: esta función debería ser capaz de mostrar por pantalla el tablero. Será libre para cada alumno, aunque daremos un ejemplo.\n",
    "- Función ``askPosition()``: necesitaremos tener una función capaz de pedir y recoger la posición donde el jugador quiere ubicar su próxima pieza.\n",
    "- Función ``apply()``: esta función deberá ejecutar la jugada que el jugador ha decidido tomar.\n",
    "- Funciones finales (``fullBoard()`` y ``isWinner()``)"
   ]
  },
  {
   "attachments": {},
   "cell_type": "markdown",
   "metadata": {},
   "source": [
    "## Paso 2. Tablero, Matrices y Listas de Comprensión"
   ]
  },
  {
   "attachments": {},
   "cell_type": "markdown",
   "metadata": {},
   "source": [
    "Veamos primero de todo como crear el tablero. Usaremos las **listas de comprensión**.\n",
    "\n",
    "La idea de una lista de comprensión es crear una lista de manera más eficiente y en una sola línea de código. Por ejemplo, si queremos tener una lista que contenga todos los valores del 1 al 10, podemos hacer lo siguiente:\n",
    "```python\n",
    ">>> lst = [i for i in range(1,11)]\n",
    ">>> lst\n",
    "[1,2,3,4,5,6,7,8,9,10]\n",
    "```\n",
    "Qué ha pasado aquí? Esta lista la podemos leer como: 'pon el valor que toma la variable ``i`` para cada valor en el rango del 1 al 10'.\n",
    "\n",
    "Este es un ejemplo muy tonto ya que para ello hay mejores opciones de conseguirlo como:\n",
    "```python\n",
    ">>> lst = list(range(1,11))\n",
    "```\n",
    "\n",
    "Pero cuando se quieren añadir otras cosas a la lista... la cosa se vuelve más complicada.\n",
    "\n",
    "Aquí van unos ejemplos:"
   ]
  },
  {
   "cell_type": "code",
   "execution_count": 1,
   "metadata": {},
   "outputs": [
    {
     "name": "stdout",
     "output_type": "stream",
     "text": [
      "[0, -1, -2, -3, -4, -5, -6, -7, -8, -9]\n"
     ]
    }
   ],
   "source": [
    "lst = [-i for i in range(10)]\n",
    "print(lst)"
   ]
  },
  {
   "cell_type": "code",
   "execution_count": 2,
   "metadata": {},
   "outputs": [
    {
     "name": "stdout",
     "output_type": "stream",
     "text": [
      "[[0, 1, 2], [3, 4, 5], [6, 7, 8]]\n"
     ]
    }
   ],
   "source": [
    "lst = [[i+j for i in range(3)] for j in range(0,7,3)] # Una lista de listas!\n",
    "print(lst)"
   ]
  },
  {
   "cell_type": "code",
   "execution_count": 3,
   "metadata": {},
   "outputs": [
    {
     "name": "stdout",
     "output_type": "stream",
     "text": [
      "['', 'A', 'AA', 'AAA', 'AAAA']\n"
     ]
    }
   ],
   "source": [
    "lst = ['A'*i for i in range(5)]\n",
    "print(lst)"
   ]
  },
  {
   "attachments": {},
   "cell_type": "markdown",
   "metadata": {},
   "source": [
    "Volvamos al ejemplo del tablero. Cada casilla será un punto (``.``), que representará que la casilla está vacía. Si la casilla, en cambio, está ocupada por el jugador 1, habrá una 'X'. Y si está ocupada por el jugador 2, habrá una 'O'.\n",
    "\n",
    "¿Cómo logramos crear una lista de listas con 3 ``\".\"`` en cada sublista? Nota: tiene que haber 3 sublistas, una por cada fila del tablero."
   ]
  },
  {
   "cell_type": "code",
   "execution_count": 4,
   "metadata": {},
   "outputs": [],
   "source": [
    "# Crea la variable de nombre board que represente el tablero inicial en formato de matriz, \n",
    "# con un punto en cada posición y usando listas de comprensión."
   ]
  },
  {
   "attachments": {},
   "cell_type": "markdown",
   "metadata": {},
   "source": [
    "## Paso 3. Función ``drawBoard()``"
   ]
  },
  {
   "attachments": {},
   "cell_type": "markdown",
   "metadata": {},
   "source": [
    "Esta función deberá tomar como parámetro únicamente el tablero (board) y mostrarlo. Nosotros proponemos la siguiente:"
   ]
  },
  {
   "cell_type": "code",
   "execution_count": 5,
   "metadata": {},
   "outputs": [
    {
     "name": "stdout",
     "output_type": "stream",
     "text": [
      ". . .\n",
      ". . .\n",
      ". . .\n"
     ]
    }
   ],
   "source": [
    "from solucio import b, drawBoard\n",
    "board = b.copy()\n",
    "drawBoard(board=board)"
   ]
  },
  {
   "cell_type": "code",
   "execution_count": 6,
   "metadata": {},
   "outputs": [],
   "source": [
    "# Crea aquí tu propia función drawBoard()"
   ]
  },
  {
   "attachments": {},
   "cell_type": "markdown",
   "metadata": {},
   "source": [
    "## Paso 4. Función ``askPosition()``"
   ]
  },
  {
   "attachments": {},
   "cell_type": "markdown",
   "metadata": {},
   "source": [
    "Esta función sólo necesita el parámetro board. Simplemente debe guardar en 2 variables distintas la fila y columna donde el jugador quiere poner su ficha. Una vez hecho esto, devuelve las 2 variables.\n",
    "\n",
    "Prueba de ejecutar la función de la solución e intenta crearla sin mirar la solución. Recuerda que los inputs deben ser ``int()``, no cadenas de texto.\n",
    "\n",
    "Atención! Esta función tiene que obtener una posición **válida** en el tablero, así que seguirá preguntando hasta que la posición esté vacía."
   ]
  },
  {
   "cell_type": "code",
   "execution_count": 7,
   "metadata": {},
   "outputs": [
    {
     "name": "stdout",
     "output_type": "stream",
     "text": [
      "Fila: 1, Columna: 1\n"
     ]
    }
   ],
   "source": [
    "from solucio import askPosition\n",
    "\n",
    "fila, columna = askPosition(board=board)\n",
    "print(f'Fila: {fila}, Columna: {columna}')"
   ]
  },
  {
   "cell_type": "code",
   "execution_count": 8,
   "metadata": {},
   "outputs": [],
   "source": [
    "# Crea aquí tu propia función askPosition()"
   ]
  },
  {
   "attachments": {},
   "cell_type": "markdown",
   "metadata": {},
   "source": [
    "## Paso 5. Función ``apply()``"
   ]
  },
  {
   "attachments": {},
   "cell_type": "markdown",
   "metadata": {},
   "source": [
    "Esta función deberá tomar como parámetros la fila y columna donde se quiere poner la pieza, el tablero y el jugador que mueve.\n",
    "El objetivo de la función es que modifique y retorne el tablero modificado después de haber añadido la letra del jugador a la posición dada.\n",
    "\n",
    "Si imaginamos que el jugador que mueve es el 'X' y la fila y columna son las anteriores, el tablero quedaría de la siguiente forma:"
   ]
  },
  {
   "cell_type": "code",
   "execution_count": 9,
   "metadata": {},
   "outputs": [
    {
     "name": "stdout",
     "output_type": "stream",
     "text": [
      "Tauler Inicial:\n",
      ". . .\n",
      ". . .\n",
      ". . .\n",
      "Apliquem el moviment a la fila 1 i columna 1.\n",
      "Tauler després del moviment:\n",
      ". . .\n",
      ". X .\n",
      ". . .\n"
     ]
    }
   ],
   "source": [
    "from solucio import apply\n",
    "\n",
    "jug = 'X'\n",
    "\n",
    "print('Tauler Inicial:')\n",
    "drawBoard(board)\n",
    "print(f'Apliquem el moviment a la fila {fila} i columna {columna}.')\n",
    "apply(fila=fila, columna=columna, board=board, jug=jug)\n",
    "print('Tauler després del moviment:')\n",
    "drawBoard(board)"
   ]
  },
  {
   "cell_type": "code",
   "execution_count": 10,
   "metadata": {},
   "outputs": [],
   "source": [
    "# Crea aquí tu propia función apply(fila,columna,board,jug)."
   ]
  },
  {
   "attachments": {},
   "cell_type": "markdown",
   "metadata": {},
   "source": [
    "## Paso 6. Funciones de finalización: ``fullBoard()`` y ``isWinner()``"
   ]
  },
  {
   "attachments": {},
   "cell_type": "markdown",
   "metadata": {},
   "source": [
    "Una vez hecho el movimiento de una pieza, tenemos que mirar si el jugador ha ganado la partida o la partida se ha acabado en empate. \n",
    "\n",
    "¿Cuándo acaba en empate? Pues cuando todas las posiciones del tablero estan ocupadas. Esto mismo es lo que tendrá que comprobar la función ``fullBoard()``. Un ejemplo de su uso es el siguiente:"
   ]
  },
  {
   "cell_type": "code",
   "execution_count": 11,
   "metadata": {},
   "outputs": [
    {
     "name": "stdout",
     "output_type": "stream",
     "text": [
      ". . .\n",
      ". X .\n",
      ". . .\n",
      "Està ple?\n",
      "False\n",
      "\n",
      " NOU TAULER\n",
      "\n",
      "X X X\n",
      "X X X\n",
      "X X X\n",
      "Ara està ple?\n",
      "True\n"
     ]
    }
   ],
   "source": [
    "from solucio import fullBoard\n",
    "\n",
    "drawBoard(board=board)\n",
    "print('Està ple?')\n",
    "print(fullBoard(board=board))\n",
    "\n",
    "board = [['X' for _ in range(3)] for _ in range(3)]\n",
    "print('\\n NOU TAULER\\n')\n",
    "drawBoard(board)\n",
    "print('Ara està ple?')\n",
    "print(fullBoard(board=board))"
   ]
  },
  {
   "cell_type": "code",
   "execution_count": 12,
   "metadata": {},
   "outputs": [],
   "source": [
    "# Diseña aquí la función fullBoard() que toma como parámetro un tablero de nombre board\n",
    "# y devuelva True si están todas sus casillas ocupadas y False en el caso contrario."
   ]
  },
  {
   "attachments": {},
   "cell_type": "markdown",
   "metadata": {},
   "source": [
    "Ahora bien, para comprobar si un jugador ha ganado, usaremos la función ``isWinner()``.\n",
    "Esta tiene que comprobar:\n",
    "- Si hay alguna fila en la que el jugador ha hecho 3 en raya.\n",
    "- Si hay alguna columna en la que el jugador ha hecho 3 en raya.\n",
    "- Si lo ha hecho en la diagonal principal.\n",
    "- Si lo ha hecho en la diagonal inversa.\n",
    "\n",
    "En cualquiera de estos casos debe devolver ``True``, sino, ``False``.\n",
    "\n",
    "Aquí hay un ejemplo de uso."
   ]
  },
  {
   "cell_type": "code",
   "execution_count": 13,
   "metadata": {},
   "outputs": [
    {
     "name": "stdout",
     "output_type": "stream",
     "text": [
      ". . .\n",
      ". X .\n",
      ". . .\n",
      "Next Move:\n",
      "X . .\n",
      ". X .\n",
      ". . .\n",
      "Ha fet 3 en ratlla? False\n",
      "Next Move:\n",
      "X . .\n",
      ". X .\n",
      ". . .\n",
      "Ha fet 3 en ratlla? False\n",
      "Next Move:\n",
      "X . .\n",
      ". X .\n",
      ". . X\n",
      "Ha fet 3 en ratlla? True\n"
     ]
    }
   ],
   "source": [
    "from solucio import isWinner\n",
    "\n",
    "board = b.copy()\n",
    "drawBoard(board)\n",
    "\n",
    "print('Next Move:')\n",
    "apply(0,0,board,jug)\n",
    "drawBoard(board)\n",
    "print(f'Ha fet 3 en ratlla? {isWinner(board=board, jug=jug)}')\n",
    "\n",
    "print('Next Move:')\n",
    "apply(1,1,board,jug)\n",
    "drawBoard(board)\n",
    "print(f'Ha fet 3 en ratlla? {isWinner(board=board, jug=jug)}')\n",
    "\n",
    "print('Next Move:')\n",
    "apply(2,2,board,jug)\n",
    "drawBoard(board)\n",
    "print(f'Ha fet 3 en ratlla? {isWinner(board=board, jug=jug)}')"
   ]
  },
  {
   "cell_type": "code",
   "execution_count": 14,
   "metadata": {},
   "outputs": [],
   "source": [
    "# Diseña aquí tu función isWinner(board, jug)."
   ]
  },
  {
   "attachments": {},
   "cell_type": "markdown",
   "metadata": {},
   "source": [
    "## Paso Final. Juego Completo"
   ]
  },
  {
   "attachments": {},
   "cell_type": "markdown",
   "metadata": {},
   "source": [
    "Crea un bucle que se ejecute mientras no haya un ganador y el tablero no esté lleno. Al finalizar cada turno se deben comprobar estas 2 condiciones y el jugador debe cambiar.\n",
    "\n",
    "Puedes probar la solución en la siguiente celda. Se ha hecho una función ``play()``, pero no es necesario que la hagas:"
   ]
  },
  {
   "cell_type": "code",
   "execution_count": 15,
   "metadata": {},
   "outputs": [
    {
     "name": "stdout",
     "output_type": "stream",
     "text": [
      ". . .\n",
      ". . .\n",
      ". . .\n",
      "X . .\n",
      ". . .\n",
      ". . .\n",
      "X O .\n",
      ". . .\n",
      ". . .\n",
      "Posició ocupada - Canvia de posició.\n",
      "X O .\n",
      ". X .\n",
      ". . .\n",
      "X O .\n",
      ". X O\n",
      ". . .\n",
      "--- Tauler Final ---\n",
      "X O .\n",
      ". X O\n",
      ". . X\n",
      "Winner = X\n"
     ]
    }
   ],
   "source": [
    "from solucio import play\n",
    "board = [['.' for _ in range(3)] for _ in range(3)]\n",
    "play(board=board)"
   ]
  },
  {
   "cell_type": "code",
   "execution_count": 16,
   "metadata": {},
   "outputs": [],
   "source": [
    "# Crea aquí el bucle de tu juego al completo."
   ]
  }
 ],
 "metadata": {
  "kernelspec": {
   "display_name": "Python 3",
   "language": "python",
   "name": "python3"
  },
  "language_info": {
   "codemirror_mode": {
    "name": "ipython",
    "version": 3
   },
   "file_extension": ".py",
   "mimetype": "text/x-python",
   "name": "python",
   "nbconvert_exporter": "python",
   "pygments_lexer": "ipython3",
   "version": "3.10.5"
  },
  "orig_nbformat": 4
 },
 "nbformat": 4,
 "nbformat_minor": 2
}
