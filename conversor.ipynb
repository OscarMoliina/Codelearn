{
 "cells": [
  {
   "attachments": {},
   "cell_type": "markdown",
   "metadata": {},
   "source": [
    "## Decimal"
   ]
  },
  {
   "attachments": {},
   "cell_type": "markdown",
   "metadata": {},
   "source": [
    "### Decimal a Binario"
   ]
  },
  {
   "cell_type": "code",
   "execution_count": 12,
   "metadata": {},
   "outputs": [
    {
     "data": {
      "text/plain": [
       "100000000"
      ]
     },
     "execution_count": 12,
     "metadata": {},
     "output_type": "execute_result"
    }
   ],
   "source": [
    "def decimal_to_binary(n):\n",
    "    lst = []\n",
    "    while n != 0:\n",
    "        lst = [n%2] + lst\n",
    "        n//=2\n",
    "    numero = ''\n",
    "    for i in lst:\n",
    "        numero += str(i)\n",
    "    return int(numero)\n",
    "decimal_to_binary(256)"
   ]
  },
  {
   "attachments": {},
   "cell_type": "markdown",
   "metadata": {},
   "source": [
    "### Decimal a Hexadecimal"
   ]
  },
  {
   "cell_type": "code",
   "execution_count": 21,
   "metadata": {},
   "outputs": [
    {
     "data": {
      "text/plain": [
       "'f'"
      ]
     },
     "execution_count": 21,
     "metadata": {},
     "output_type": "execute_result"
    }
   ],
   "source": [
    "def num_to_hexa(n:int):\n",
    "    '''\n",
    "    Passa d'un número del 0 al 15 al seu respectiu valor en hexadecimal \n",
    "    '''\n",
    "    dic = {\n",
    "        10: 'a',\n",
    "        11: 'b',\n",
    "        12: 'c',\n",
    "        13: 'd',\n",
    "        14: 'e',\n",
    "        15: 'f'\n",
    "    }\n",
    "    if n <= 9:\n",
    "        return str(n)\n",
    "    else:\n",
    "        return dic[n]\n",
    "\n",
    "\n",
    "def decimal_to_hexa(n):\n",
    "    cad = ''\n",
    "    while n != 0:\n",
    "        cad = num_to_hexa(n%16) + cad\n",
    "        n//=16\n",
    "    return cad\n",
    "    \n",
    "decimal_to_hexa(15)"
   ]
  },
  {
   "attachments": {},
   "cell_type": "markdown",
   "metadata": {},
   "source": [
    "## Binario"
   ]
  },
  {
   "attachments": {},
   "cell_type": "markdown",
   "metadata": {},
   "source": [
    "### Binario a Decimal"
   ]
  },
  {
   "cell_type": "code",
   "execution_count": null,
   "metadata": {},
   "outputs": [],
   "source": [
    "def binary_to_decimal(binary:str):\n",
    "    binary = int(binary)\n",
    "    decimal = 0\n",
    "    i = 0\n",
    "    while(binary != 0):\n",
    "        dec = binary % 10\n",
    "        decimal = decimal + dec * pow(2, i)\n",
    "        binary = binary//10\n",
    "        i += 1\n",
    "    return decimal"
   ]
  },
  {
   "attachments": {},
   "cell_type": "markdown",
   "metadata": {},
   "source": [
    "### Binario a Hexadecimal"
   ]
  },
  {
   "cell_type": "code",
   "execution_count": 40,
   "metadata": {},
   "outputs": [
    {
     "data": {
      "text/plain": [
       "'ff'"
      ]
     },
     "execution_count": 40,
     "metadata": {},
     "output_type": "execute_result"
    }
   ],
   "source": [
    "def binary_to_hexa(s:str):\n",
    "    cad = ''\n",
    "    s = s[::-1]\n",
    "    contador = 0\n",
    "    lst = []\n",
    "    cad_aux = ''\n",
    "    for i in range(len(s)):\n",
    "        contador += 1\n",
    "        cad_aux = s[i] + cad_aux\n",
    "        if contador == 4:\n",
    "            lst = [cad_aux] + lst\n",
    "            cad_aux = ''\n",
    "            contador = 0\n",
    "    if cad_aux != '':\n",
    "        lst = [cad_aux] + lst\n",
    "    \n",
    "    for i in lst:\n",
    "        num = binary_to_decimal(i)\n",
    "        cad = decimal_to_hexa(num) + cad\n",
    "        \n",
    "    return cad\n",
    "\n",
    "binary_to_hexa('11111111')"
   ]
  },
  {
   "attachments": {},
   "cell_type": "markdown",
   "metadata": {},
   "source": [
    "## Hexadecimal"
   ]
  },
  {
   "attachments": {},
   "cell_type": "markdown",
   "metadata": {},
   "source": [
    "### Hexadecimal a Decimal"
   ]
  },
  {
   "cell_type": "code",
   "execution_count": null,
   "metadata": {},
   "outputs": [],
   "source": [
    "def hexa_to_decimal(s:str):\n",
    "    pass"
   ]
  },
  {
   "attachments": {},
   "cell_type": "markdown",
   "metadata": {},
   "source": [
    "### Hexadecimal a Binario"
   ]
  },
  {
   "cell_type": "code",
   "execution_count": 41,
   "metadata": {},
   "outputs": [],
   "source": [
    "def hexa_to_binary(s:str):\n",
    "    pass"
   ]
  }
 ],
 "metadata": {
  "kernelspec": {
   "display_name": "Python 3",
   "language": "python",
   "name": "python3"
  },
  "language_info": {
   "codemirror_mode": {
    "name": "ipython",
    "version": 3
   },
   "file_extension": ".py",
   "mimetype": "text/x-python",
   "name": "python",
   "nbconvert_exporter": "python",
   "pygments_lexer": "ipython3",
   "version": "3.10.5"
  },
  "orig_nbformat": 4,
  "vscode": {
   "interpreter": {
    "hash": "97a1cb7b875c85da53629d3c28515f9ec5a4d44ed5294b2f83c4586eb1a31b85"
   }
  }
 },
 "nbformat": 4,
 "nbformat_minor": 2
}
