{
 "cells": [
  {
   "attachments": {},
   "cell_type": "markdown",
   "metadata": {},
   "source": [
    "# PROYECTO: Tablas de la verdad\n",
    "\n",
    "En este proyecto se van a ver los siguientes conceptos:\n",
    "- Importar una librería y usar uno de sus métodos.\n",
    "- Usar el resultado de una función auxiliar en la función principal.\n",
    "- Aprender el funcionamiento de la función ```eval```.\n",
    "\n",
    "Este proyecto agrupa todos los conceptos impartidos en la academia como el uso de los caracteres ASCII, las listas y los diccionarios."
   ]
  },
  {
   "cell_type": "code",
   "execution_count": null,
   "metadata": {},
   "outputs": [],
   "source": []
  },
  {
   "cell_type": "code",
   "execution_count": null,
   "metadata": {},
   "outputs": [],
   "source": []
  },
  {
   "cell_type": "code",
   "execution_count": null,
   "metadata": {},
   "outputs": [],
   "source": []
  }
 ],
 "metadata": {
  "language_info": {
   "name": "python"
  },
  "orig_nbformat": 4
 },
 "nbformat": 4,
 "nbformat_minor": 2
}
