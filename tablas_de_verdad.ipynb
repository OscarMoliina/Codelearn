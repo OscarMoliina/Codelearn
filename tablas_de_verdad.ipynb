{
 "cells": [
  {
   "attachments": {},
   "cell_type": "markdown",
   "metadata": {},
   "source": [
    "# PROYECTO: Tablas de la verdad\n",
    "\n",
    "En este proyecto se van a ver los siguientes conceptos:\n",
    "- Importar una librería y usar uno de sus métodos.\n",
    "- Usar el resultado de una función auxiliar en la función principal.\n",
    "- Aprender el funcionamiento de la función ```eval```.\n",
    "\n",
    "Este proyecto agrupa todos los conceptos impartidos en la academia como el uso de los caracteres ASCII, las listas y los diccionarios.\n",
    "\n",
    "---"
   ]
  },
  {
   "attachments": {},
   "cell_type": "markdown",
   "metadata": {},
   "source": [
    "Lo que se pretende con este proyecto es crear un programa que admita como input el número de variables y la propia función booleana que vamos a resolver.\n",
    "\n",
    "La idea seria la siguiente:\n",
    "```python\n",
    ">>> Ingrese la cantidad de variables: 3\n",
    "\n",
    ">>> Ingrese la función booleana: A and B or C\n",
    "\n",
    "[True, True, True, False, True, False, True, False]\n",
    "```\n",
    "Se te ocurre cómo hacerlo? Pruébalo antes de seguir y muéstrale a tu profesor los problemas que te van surgiendo.\n",
    "\n",
    "---"
   ]
  },
  {
   "attachments": {},
   "cell_type": "markdown",
   "metadata": {},
   "source": [
    "Para sacar una tabla de la verdad de una función booleana, hay que **evaluar** esta función para todas las combinaciones de ```True/False``` de sus variables.\n",
    "\n",
    "Lo que queremos, además, es que podamos meter todas las variables que queramos, así que tiene que haber una forma de obtener todas las combinaciones de ```True/False``` de tamaño **n**, siendo **n** la cantidad de variables de la función."
   ]
  },
  {
   "attachments": {},
   "cell_type": "markdown",
   "metadata": {},
   "source": [
    "## Paso 1. Obtención de las combinaciones - Librería **itertools**\n",
    "\n",
    "Una librería es un conjunto de funciones y/o clases que estan almacenados en una carpeta por defecto de Python para el uso de todo el mundo. Hay algunas que ya vienen instaladas y otras que hay que instalar a parte.\n",
    "\n",
    "En nuestro caso usaremos una librería que ya viene instalada con Python llamada **itertools** que te permite hacer combinaciones de todo tipo de elementos dado un tamaño.\n",
    "\n",
    "De esta librería usaremos una función llamada **product(lista, tamaño)** que dada una lista de elementos, te retorna todas las combinaciones del tamaño que le pasemos. En nuestro caso, este tamaño será la variable **n**.\n",
    "\n",
    "### Importar la librería y usar la función **product**\n",
    "Para usar la libreria hay que importarla de la siguiente manera:"
   ]
  },
  {
   "cell_type": "code",
   "execution_count": null,
   "metadata": {},
   "outputs": [],
   "source": [
    "import itertools"
   ]
  },
  {
   "attachments": {},
   "cell_type": "markdown",
   "metadata": {},
   "source": [
    "Ahora, si escribimos ```itertools.product(l,repeat=n)``` ya detectará la función. Pero cuál serán nuestras ```l``` y ```n``` ? Serán la lista de los valores que puede tomar cada variable (```True/False```) y el tamaño (ej. 3)."
   ]
  },
  {
   "cell_type": "code",
   "execution_count": null,
   "metadata": {},
   "outputs": [],
   "source": [
    "n = 3\n",
    "l = [True, False]\n",
    "lista = itertools.product(l,repeat=n)\n",
    "print(lista)"
   ]
  },
  {
   "attachments": {},
   "cell_type": "markdown",
   "metadata": {},
   "source": [
    "Como vemos, al mostrar por pantalla no nos ha mostrado la lista, sino un objeto __itertools.product__. Para solucionarlo, podemos cambiar el objeto a tipo ```list```."
   ]
  },
  {
   "cell_type": "code",
   "execution_count": null,
   "metadata": {},
   "outputs": [],
   "source": [
    "lista = list(itertools.product(l,repeat=n))\n",
    "print(lista)"
   ]
  },
  {
   "cell_type": "code",
   "execution_count": null,
   "metadata": {},
   "outputs": [],
   "source": [
    "# Inserta tu código aquí si quieres hacer pruebas."
   ]
  },
  {
   "attachments": {},
   "cell_type": "markdown",
   "metadata": {},
   "source": [
    "Genial! Ya tenemos todas las combinaciones.\n",
    "\n",
    "## Paso 2. Dinseñar la función ```taula(n,frase)``` \n",
    "Para cada elemento de la lista, nos evaluará la función booleana en dicha combinación."
   ]
  },
  {
   "attachments": {},
   "cell_type": "markdown",
   "metadata": {},
   "source": [
    "La idea de esta función es que haga lo siguiente:\n",
    "- Recibe como parámetros ```n, frase``` que serán la cantidad de variables, y la misma función booleana en forma de string.\n",
    "_Nota: ```n``` y ```frase``` los tomaremos como input al inicio del programa._\n",
    "- Crea la lista de combinaciones y, para cada una de ellas, ejecuta una función llamada ```read``` (que la definieremos más adelante) que toma como parámetros la combinación y la frase.\n",
    "- Añade cada resultado a una lista de nombre ```result```.\n",
    "- Retorna la lista de resultados final."
   ]
  },
  {
   "attachments": {},
   "cell_type": "markdown",
   "metadata": {},
   "source": [
    "Intenta hacer la función tú mismo. Enséñale a tu profesor la función diseñada y pregúntale si no estás seguro de que esté bien. Piensa que aún no podrás ejecutarlo para comprobar ya que ```read``` no está definida."
   ]
  },
  {
   "cell_type": "code",
   "execution_count": null,
   "metadata": {},
   "outputs": [],
   "source": [
    "# Inserta tu código aquí"
   ]
  },
  {
   "attachments": {},
   "cell_type": "markdown",
   "metadata": {},
   "source": [
    "## Paso 3. Diseñar la función ```read(combinacion, frase)```\n",
    "\n",
    "Para una combinación, nos retornará su resultado.\n",
    "\n",
    "Para realizarlo usaremos la función ```eval(string, dictionary)``` de Python que nos permite evaluar una string o cadena (nuestra función booleana _frase_) y que cuando vea un caracter que aparece en las claves diccionario, lo cambia por su valor en él.\n",
    "\n",
    "Lee bien esta definición y observa el siguiente ejemplo:"
   ]
  },
  {
   "cell_type": "code",
   "execution_count": null,
   "metadata": {},
   "outputs": [],
   "source": [
    "d = {\n",
    "    'x' : 10,\n",
    "    'y' : 20\n",
    "}\n",
    "s = 'x + y'\n",
    "result = eval(s,d)\n",
    "print(result)"
   ]
  },
  {
   "attachments": {},
   "cell_type": "markdown",
   "metadata": {},
   "source": [
    "Aquí te dejo otro ejemplo con funciones booleanas:"
   ]
  },
  {
   "cell_type": "code",
   "execution_count": null,
   "metadata": {},
   "outputs": [],
   "source": [
    "d = {\n",
    "    'A' : True,\n",
    "    'B' : False\n",
    "}\n",
    "s = 'A and B or not A'\n",
    "result = eval(s,d)\n",
    "print(result)"
   ]
  },
  {
   "cell_type": "code",
   "execution_count": null,
   "metadata": {},
   "outputs": [],
   "source": [
    "eval('print(3)')"
   ]
  },
  {
   "attachments": {},
   "cell_type": "markdown",
   "metadata": {},
   "source": [
    "En la función ```read``` se deberá hacer lo siguiente:\n",
    "- Crear un diccionario con **n** letras (una por cada variable en orden alfabético) donde a cada una de ellas se le corresponda el valor de la combinación que le toca.\n",
    "\n",
    "Ejemplo con la combinación ```(True, False, False)```:\n",
    "```python\n",
    ">>> d['A']\n",
    "True\n",
    ">>> d['B']\n",
    "False\n",
    ">>> d['C']\n",
    "False\n",
    "```\n",
    "\n",
    "Es decir, el diccionario sería el siguiente:\n",
    "```python\n",
    "d = {'A':True, 'B':False, 'C': False}\n",
    "```\n",
    "    Pista: A lo mejor hará falta usar alguna de las funciones ASCII.\n",
    "\n",
    "- Retornar la evaluación de la frase con el diccionario creado."
   ]
  },
  {
   "cell_type": "code",
   "execution_count": null,
   "metadata": {},
   "outputs": [],
   "source": [
    "# Inserta tu código aquí"
   ]
  },
  {
   "attachments": {},
   "cell_type": "markdown",
   "metadata": {},
   "source": [
    "## Paso 4. Agrupa todo el código en un fichero de Python o una celda Jupyter. \n",
    "Ejecútalo con la operación booleana que quieras y comprueba que retorna el resultado correcto. Enséñale el código final a tu profesor."
   ]
  },
  {
   "cell_type": "code",
   "execution_count": null,
   "metadata": {},
   "outputs": [],
   "source": [
    "# Inserta tu código aquí"
   ]
  }
 ],
 "metadata": {
  "kernelspec": {
   "display_name": "Python 3",
   "language": "python",
   "name": "python3"
  },
  "language_info": {
   "codemirror_mode": {
    "name": "ipython",
    "version": 3
   },
   "file_extension": ".py",
   "mimetype": "text/x-python",
   "name": "python",
   "nbconvert_exporter": "python",
   "pygments_lexer": "ipython3",
   "version": "3.10.5"
  },
  "orig_nbformat": 4
 },
 "nbformat": 4,
 "nbformat_minor": 2
}
