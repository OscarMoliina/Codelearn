{
 "cells": [
  {
   "attachments": {},
   "cell_type": "markdown",
   "metadata": {},
   "source": [
    "# CALCULADORA - SOLUCIONES"
   ]
  },
  {
   "attachments": {},
   "cell_type": "markdown",
   "metadata": {},
   "source": [
    "### PASO 1."
   ]
  },
  {
   "cell_type": "code",
   "execution_count": 1,
   "metadata": {},
   "outputs": [
    {
     "name": "stdout",
     "output_type": "stream",
     "text": [
      "['3', '+', '4']\n"
     ]
    }
   ],
   "source": [
    "a = input()\n",
    "lista = a.split(sep=' ')\n",
    "\n",
    "print(lista)"
   ]
  },
  {
   "attachments": {},
   "cell_type": "markdown",
   "metadata": {},
   "source": [
    "### PASO 2."
   ]
  },
  {
   "cell_type": "code",
   "execution_count": 4,
   "metadata": {},
   "outputs": [
    {
     "name": "stdout",
     "output_type": "stream",
     "text": [
      "7\n"
     ]
    }
   ],
   "source": [
    "if lista[1] == '+':\n",
    "    print(suma(int(lista[0]),int(lista[2])))\n",
    "elif lista[1] == '-':\n",
    "    print(resta(int(lista[0]),int(lista[2])))\n",
    "elif lista[1] == '*':\n",
    "    print(multiplica(int(lista[0]),int(lista[2])))\n",
    "elif lista[1] == '/':\n",
    "    print(divide(int(lista[0]),int(lista[2])))"
   ]
  },
  {
   "attachments": {},
   "cell_type": "markdown",
   "metadata": {},
   "source": [
    "### PASO 3."
   ]
  },
  {
   "cell_type": "code",
   "execution_count": 3,
   "metadata": {},
   "outputs": [],
   "source": [
    "def suma(a,b): return a+b\n",
    "\n",
    "def resta(a,b): return a-b\n",
    "\n",
    "def multiplica(a,b): return a*b\n",
    "\n",
    "def divide(a,b): return a/b"
   ]
  },
  {
   "attachments": {},
   "cell_type": "markdown",
   "metadata": {},
   "source": [
    "### PASO 4."
   ]
  },
  {
   "cell_type": "code",
   "execution_count": 5,
   "metadata": {},
   "outputs": [
    {
     "name": "stdout",
     "output_type": "stream",
     "text": [
      "-1\n"
     ]
    }
   ],
   "source": [
    "a = input()\n",
    "lista = a.split(sep=' ')\n",
    "\n",
    "def suma(a,b): return a+b\n",
    "\n",
    "def resta(a,b): return a-b\n",
    "\n",
    "def multiplica(a,b): return a*b\n",
    "\n",
    "def divide(a,b): return a/b\n",
    "\n",
    "if lista[1] == '+':\n",
    "    print(suma(int(lista[0]),int(lista[2])))\n",
    "elif lista[1] == '-':\n",
    "    print(resta(int(lista[0]),int(lista[2])))\n",
    "elif lista[1] == '*':\n",
    "    print(multiplica(int(lista[0]),int(lista[2])))\n",
    "elif lista[1] == '/':\n",
    "    print(divide(int(lista[0]),int(lista[2])))"
   ]
  },
  {
   "attachments": {},
   "cell_type": "markdown",
   "metadata": {},
   "source": [
    "### PASO 5."
   ]
  },
  {
   "cell_type": "code",
   "execution_count": 6,
   "metadata": {},
   "outputs": [
    {
     "name": "stdout",
     "output_type": "stream",
     "text": [
      "9\n",
      "-4\n",
      "11\n"
     ]
    }
   ],
   "source": [
    "a = input()\n",
    "\n",
    "def suma(a,b): return a+b\n",
    "\n",
    "def resta(a,b): return a-b\n",
    "\n",
    "def multiplica(a,b): return a*b\n",
    "\n",
    "def divide(a,b): return a/b\n",
    "\n",
    "while a != 'Fin':\n",
    "    lista = a.split(sep=' ')\n",
    "\n",
    "    if lista[1] == '+':\n",
    "        print(suma(int(lista[0]),int(lista[2])))\n",
    "    elif lista[1] == '-':\n",
    "        print(resta(int(lista[0]),int(lista[2])))\n",
    "    elif lista[1] == '*':\n",
    "        print(multiplica(int(lista[0]),int(lista[2])))\n",
    "    elif lista[1] == '/':\n",
    "        print(divide(int(lista[0]),int(lista[2])))\n",
    "    \n",
    "    a = input()"
   ]
  }
 ],
 "metadata": {
  "kernelspec": {
   "display_name": "Python 3",
   "language": "python",
   "name": "python3"
  },
  "language_info": {
   "codemirror_mode": {
    "name": "ipython",
    "version": 3
   },
   "file_extension": ".py",
   "mimetype": "text/x-python",
   "name": "python",
   "nbconvert_exporter": "python",
   "pygments_lexer": "ipython3",
   "version": "3.10.5"
  },
  "orig_nbformat": 4,
  "vscode": {
   "interpreter": {
    "hash": "97a1cb7b875c85da53629d3c28515f9ec5a4d44ed5294b2f83c4586eb1a31b85"
   }
  }
 },
 "nbformat": 4,
 "nbformat_minor": 2
}
