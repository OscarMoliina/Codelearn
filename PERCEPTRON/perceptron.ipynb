{
 "cells": [
  {
   "attachments": {},
   "cell_type": "markdown",
   "metadata": {},
   "source": [
    "# PROYECTO: El Perceptrón\n",
    "\n",
    "Este proyecto es largo pero entretenido y con un resultado muy interesante. En él, vas a aprender el elemento más básico del Deep Learning, la NEURONA. El Deep Learning es uno de los campos de la ```Inteligencia Artificial``` que está más en auge y trabaja con Redes Neuronales. \n",
    "\n",
    "Durante el proyecto aprenderemos de una manera muy simple e intuitiva cómo **aprende** una red neuronal, pero no nos centraremos en las matemáticas que hay detrás.\n",
    "\n",
    "El nombre de este proyecto (El Perceptrón) es el que se le asignó cuando se inventó lo que ahora entendemos como neurona. Pero qué es una neurona y qué es capaz de hacer? Vamos a ver un ejemplo!"
   ]
  },
  {
   "attachments": {},
   "cell_type": "markdown",
   "metadata": {},
   "source": [
    "Imaginémos que tenemos una máquina que tú le pasas un número, le aplica unas transformaciones, y te devuelve otro. A ésta máquina la llamaremos ```f()```, y será nuestra **neurona** o **modelo**. Ahora quiero que intentes adivinar qué transformación le hace al número coon los siguientes ejemplos:\n",
    "```python\n",
    ">>> f(3)\n",
    "6\n",
    ">>> f(2)\n",
    "4\n",
    ">>> f(1000)\n",
    "2000\n",
    "...\n",
    "```\n",
    "Qué le está pasando al número cuando lo pasamos por ```f()```? Se multiplica por 2, verdad? Y si ahora te pongo este otro ejemplo... Qué hace ```f()```?\n",
    "```python\n",
    ">>> f(2)\n",
    "6.283185307\n",
    ">>> f(9)\n",
    "28.27433388\n",
    ">>> f(341)\n",
    "1071.283094\n",
    "...\n",
    "```\n",
    "Parece un poco más difícil... La respuesta es pi."
   ]
  },
  {
   "attachments": {},
   "cell_type": "markdown",
   "metadata": {},
   "source": [
    "Básicamente, lo que hace la neurona es multiplicar los inputs (o valores de entrada) por un número (en los ejemplos 2 y pi). A partir de ahora le llamaremos a este número \"secreto\", **peso**, y en el código lo escribiremos como ```w```.\n",
    "\n",
    "Nuestra neurona, al principio, no tendrá ni idea de cuál será el peso que queremos. Empezará con un número aleatorio como se muestra en la siguiente imagen. A partir de allí, irá acercándose a la solución poco a poco, cambiando este valor inicial.\n",
    "\n",
    "![alt text](https://upload.wikimedia.org/wikipedia/commons/0/0b/Slope.gif)"
   ]
  },
  {
   "attachments": {},
   "cell_type": "markdown",
   "metadata": {},
   "source": [
    "## Paso 1. Inicialización de todos los Datos\n",
    "\n",
    "Para entrenar y probar este modelo de inteligencia artificial necesitaremos:\n",
    "- datos de entrenamiento: _dataset_ para ir \"enseñando\" a la neurona lo que tiene que hacer.\n",
    "- datos para probar si funciona correctamente: _dataset_ para ver qué tan bien predice nuestro modelo o neurona.\n",
    "- **peso** random: punto de partida desde donde nuestra neurona aprenderá el **peso** real (en el caso del ejemplo siguiente, deberá llegar a 5).\n",
    "\n",
    "Vamos a decidir nuestros datos de entrenamiento! Podéis escogerlo vosotros o sinó, teneis aquí un ejemplo:\n",
    "```python\n",
    "train = {\n",
    "    3:15,\n",
    "    5:25,\n",
    "    6:30,\n",
    "    8.5:42.5,\n",
    "    55:275\n",
    "}\n",
    "```\n",
    "Además de nuestros datos de entrenamiento, vamos a crear otra 'base de datos' para probar qué tal está funcionando nuestra neurona. Obviamente, este otro __dataset__ se regirá por el mismo patrón (en este ejemplo, multiplicarlo por 5).\n",
    "```python\n",
    "test = {\n",
    "    1:5,\n",
    "    32:160,\n",
    "    98:490,\n",
    "    4:20\n",
    "}\n",
    "```\n",
    "\n"
   ]
  },
  {
   "cell_type": "code",
   "execution_count": 1,
   "metadata": {},
   "outputs": [],
   "source": [
    "# Crea aquí tus dataset de train y test o copia los ejemplos para probar.\n",
    "train = {}\n",
    "test  = {}"
   ]
  },
  {
   "attachments": {},
   "cell_type": "markdown",
   "metadata": {},
   "source": [
    "## Paso 2. Creación del Modelo"
   ]
  },
  {
   "attachments": {},
   "cell_type": "markdown",
   "metadata": {},
   "source": [
    "Ahora necesitamos un valor con el que nuestra neurona empezará a entrenarse. Recuerda que entrenar un modelo de inteligencia artificial no es más que ir modificando los **pesos** (en nuestro caso solo tenemos uno) para que se adapte a tus datos.\n",
    "\n",
    "Cuál será el peso con el que empezaremos? Uno aleatorio, y lo haremos usando la librería **random**:"
   ]
  },
  {
   "cell_type": "code",
   "execution_count": 2,
   "metadata": {},
   "outputs": [
    {
     "name": "stdout",
     "output_type": "stream",
     "text": [
      "87.8188812673892\n"
     ]
    }
   ],
   "source": [
    "import random\n",
    "\n",
    "w = random.random() * 100\n",
    "print(w)"
   ]
  },
  {
   "attachments": {},
   "cell_type": "markdown",
   "metadata": {},
   "source": [
    "Esto nos dará un valor aleatorio cada vez que lo ejecutes. Pruébalo tu mismo!\n",
    "\n",
    "Lo bueno de nuestra neurona es que, sea el número que sea, acabará llegando al valor que nosotros queremos (5).\n",
    "___\n",
    "Y ahora crearemos nuestra NEURONA.\n",
    "\n",
    "Crea una función de nombre ```neurona(l,w)``` que dada una lista de números y un número ```w``` nos devuelva otra lista donde cada número de la lista ```l``` se haya multiplicado por el peso ```w```."
   ]
  },
  {
   "cell_type": "code",
   "execution_count": 3,
   "metadata": {},
   "outputs": [],
   "source": [
    "def neurona(l,w):\n",
    "    ..."
   ]
  },
  {
   "attachments": {},
   "cell_type": "markdown",
   "metadata": {},
   "source": [
    "Prueba qué predice tu neurona cuando le pasas tus datos de entrenamiento. Recuerda que le tienes que pasar son las claves del diccionario ```train```, y lo que queremos es que nos devuelva los valores del diccionario. Pero esto no pasará, ya que la neurona no está entrenada todavía."
   ]
  },
  {
   "cell_type": "code",
   "execution_count": 4,
   "metadata": {},
   "outputs": [],
   "source": [
    "# Prueba aquí tu neurona inicial con las claves del diccionario de train\n",
    "# y con el peso inicial."
   ]
  },
  {
   "attachments": {},
   "cell_type": "markdown",
   "metadata": {},
   "source": [
    "## Paso 3. Evaluación del Modelo"
   ]
  },
  {
   "attachments": {},
   "cell_type": "markdown",
   "metadata": {},
   "source": [
    "Genial, ahora ya tenemos una neurona! Pero no funciona. Ahora bien, cómo sabemos como de mal (o como de bien) lo hace? No tenemos una manera de medir cuánto se ha equivocado.\n",
    "\n",
    "Lo más lógico y fácil sería sumar el error que ha cometido en cada número. Es decir, tendremos que comparar los valores del diccionario (lo que nos debería dar) con lo que nos ha dado la neurona (lista que retorna la función neurona).\n",
    "\n",
    "_Nota: el error más senzillo es la resta entre lo que debería dar menos lo que ha dado._\n",
    "\n",
    "Diseña una función de nombre ```error(real,prediccion)``` que dada dos listas (la original y la predicha por el modelo) nos devuelva la suma de los errores que ha cometido."
   ]
  },
  {
   "cell_type": "code",
   "execution_count": null,
   "metadata": {},
   "outputs": [],
   "source": [
    "def error(real,prediccion):\n",
    "    ..."
   ]
  },
  {
   "attachments": {},
   "cell_type": "markdown",
   "metadata": {},
   "source": [
    "## Paso 4. Aprendizaje de la Neurona"
   ]
  },
  {
   "attachments": {},
   "cell_type": "markdown",
   "metadata": {},
   "source": [
    "Aquí llega la parte más importante del proyecto. Cómo aprende una neurona? No nos centraremos en las mates, sinó en la idea intuitiva que hay detrás. \n",
    "\n",
    "Imaginemos que nuestra neurona lo hace fatal, comete un error enorme. Eso significa que el peso no es el adecuado. Entonces qué hacemos? Lo aumentamos? Lo hacemos más pequeño?\n",
    "\n",
    "Pues la respuesta es que tenemos que probar para saberlo. Aumentemos el peso un poquitín y miremos si el modelo ha mejorado o ha empeorado:\n",
    "```python\n",
    ">>> error(real,neurona(train,w))\n",
    "34452.65\n",
    ">>> error(real,neurona(train,w+0.01))\n",
    "34452.50\n",
    "```\n",
    "Ostras!, hemos aumentado el peso muy muy poco y ahora el error que cometemos es un poquito más pequeño (aunque sigue siendo gigante). _Nota: es posible que en vez de mejorar, empeore, entonces simplemente lo que habría que hacer es restar, en vez de sumar._\n",
    "\n",
    "Pero, que pasaría si hacemos esto, 1000 veces?\n",
    "```python\n",
    ">>> error(real,neurona(train,w+0.01*999))\n",
    "13.5\n",
    ">>> error(real,neurona(train,w+0.01*1000))\n",
    "13.47\n",
    "```\n",
    "Vale! Hemos pasado de tener un error enorme (34452.65) a cometer un error muy pequeño (13.47). Genial!\n",
    "\n",
    "Pero sigue habiendo error. Vamos a seguir haciéndolo hasta 1500:\n",
    "```python\n",
    ">>> error(real,neurona(train,w+0.01*1500))\n",
    "803.65\n",
    "```\n",
    "\n",
    "Uy! Como es posible que haya vuelto a aumentar? Porque nos hemos pasado de largo. Para no pasarnos de largo, lo que haremos será, en vez de sumar ```w+``` un número, le sumaremos ese número multiplicado por la diferencia entre el error que teníamos antes y el que tenemos ahora. Quedaría de la siguiente forma (tendrás que rellenar los huecos):"
   ]
  },
  {
   "cell_type": "code",
   "execution_count": null,
   "metadata": {},
   "outputs": [],
   "source": [
    "real = ...\n",
    "for i in range(1000):\n",
    "    # Predecimos con nuestro peso\n",
    "    prediccion = ...\n",
    "    # Predecimos con nuestro peso actualizado (+0.01)\n",
    "    nueva = ...\n",
    "    # Comparamos los errores\n",
    "    diferencia = ... - ...\n",
    "    # Mejoramos el valor del peso\n",
    "    w -= 0.01 * diferencia\n",
    "    # Mostramos el nuevo error y el nuevo peso\n",
    "    print(error(real,nueva), w)"
   ]
  },
  {
   "attachments": {},
   "cell_type": "markdown",
   "metadata": {},
   "source": [
    "_Nota: ```real``` son los valores reales a los que queremos que llegue._"
   ]
  },
  {
   "attachments": {},
   "cell_type": "markdown",
   "metadata": {},
   "source": [
    "Fijaos que aquí estoy restando en vez de sumando. Esto es porqué si la diferencia es positiva, significa que estamos empeorando el resultado, así que hay que hacer lo contrario (restar). Mientras que si es negativa, tenemos que sumar, pero la diferencia es negativa, así que estaríamos restando! Por eso **restamos** una resta (sumamos).\n",
    "\n",
    "Si esta explicación no te convence, pregunta a tu profesor, porque puede ser un lío."
   ]
  },
  {
   "attachments": {},
   "cell_type": "markdown",
   "metadata": {},
   "source": [
    "### Paso 4.2. Nomenclatura y Constantes"
   ]
  },
  {
   "attachments": {},
   "cell_type": "markdown",
   "metadata": {},
   "source": [
    "Normalmente, en vez de poner directamente los números 1000 (en el bucle) y 0.01 en el peso, se usan variables que les puedes cambiar el valor. El primer número que dice cuántas veces actualizaremos el peso, se llama **epochs**. Y el segundo que dice cuánto cambiaremos el peso, se llama **learning rate**.\n",
    "\n",
    "Las variables en Python, si sabes que no cambiaran durante la ejecución, se llaman **constantes** (ya que no cambian). Para definir constantes en Python, su nombre debe estar en mayúscula.\n",
    "\n",
    "Si estas desde Visual Studio Code, verás la diferencia de color entre una variable y una constante:"
   ]
  },
  {
   "cell_type": "code",
   "execution_count": null,
   "metadata": {},
   "outputs": [],
   "source": [
    "epochs = 1000\n",
    "EPOCHS = 1000\n",
    "\n",
    "lr = 1000 # lr de Learning Rate\n",
    "LR = 1000"
   ]
  },
  {
   "attachments": {},
   "cell_type": "markdown",
   "metadata": {},
   "source": [
    "Sin embargo, a la práctica son lo mismo."
   ]
  },
  {
   "attachments": {},
   "cell_type": "markdown",
   "metadata": {},
   "source": [
    "## Paso 5. Juntamos todo lo aprendido\n",
    "\n",
    "Junta todo el código cambiando los números por las variables y mira cómo aprende tu neurona. Después prueba con el dataset de ``test`` y compara los resultados con lo que debería dar."
   ]
  },
  {
   "cell_type": "code",
   "execution_count": null,
   "metadata": {},
   "outputs": [],
   "source": [
    "# Junta aquí todo el código"
   ]
  },
  {
   "attachments": {},
   "cell_type": "markdown",
   "metadata": {},
   "source": [
    "Toma como input un número (acuérdate de pasarlo a número y guardarlo en una variable de nombre ``numero``) y pásaselo a tu neurona. Muestra por consola el valor predicho. A continuación muestra por consola el valor que debería haber dado (``numero * numero_secreto``)."
   ]
  },
  {
   "attachments": {},
   "cell_type": "markdown",
   "metadata": {},
   "source": [
    "Son muy parecidos? Estupendo! Has conseguido que tu neurona aprenda tu número secreto!\n",
    "\n",
    "Si no es el caso, coméntalo con tu profesor y buscad dónde está el error! No hay ningún problema."
   ]
  }
 ],
 "metadata": {
  "kernelspec": {
   "display_name": "Python 3",
   "language": "python",
   "name": "python3"
  },
  "language_info": {
   "codemirror_mode": {
    "name": "ipython",
    "version": 3
   },
   "file_extension": ".py",
   "mimetype": "text/x-python",
   "name": "python",
   "nbconvert_exporter": "python",
   "pygments_lexer": "ipython3",
   "version": "3.10.5"
  },
  "orig_nbformat": 4
 },
 "nbformat": 4,
 "nbformat_minor": 2
}
