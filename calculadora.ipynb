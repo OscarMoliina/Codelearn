{
 "cells": [
  {
   "attachments": {},
   "cell_type": "markdown",
   "metadata": {},
   "source": [
    "# PROYECTO 1 - CALCULADORA\n",
    "### Codelearn: Final Python"
   ]
  },
  {
   "attachments": {},
   "cell_type": "markdown",
   "metadata": {},
   "source": [
    "Made by: Òscar Molina & Franco Capiglioni\n",
    "\n",
    "Documentos destinados a un mejor aprendizaje de los alumnos sobre\n",
    "los contenidos impartidos en la academia Codelearn.\n",
    "\n",
    "En este primer proyecto se van a poner en practica los siguientes\n",
    "conceptos:\n",
    "- Script con diversas funciones\n",
    "- Input por teclado\n",
    "- Uso de la consola\n",
    "- While para mantener el programa un funcionamiento hasta que\n",
    "  se cierre."
   ]
  },
  {
   "cell_type": "code",
   "execution_count": 1,
   "metadata": {},
   "outputs": [
    {
     "name": "stdout",
     "output_type": "stream",
     "text": [
      "---------------\n",
      "| CALCULADORA |\n",
      "---------------\n"
     ]
    }
   ],
   "source": [
    "print('---------------')\n",
    "print('| CALCULADORA |')\n",
    "print('---------------')"
   ]
  },
  {
   "attachments": {},
   "cell_type": "markdown",
   "metadata": {},
   "source": [
    "Imaginemos que queremos desarrollar una aplicación de consola que\n",
    "puede calcular cualquier suma, resta, multiplicación y división.\n",
    "\n",
    "Cómo le podríamos decir la operación que queremos calcular? Pues\n",
    "de la siguiente manera:\n",
    "\n",
    "                        3 + 4\n",
    "\n",
    "Esta aplicación debería ser capaz de identificar que tiene que\n",
    "realizar la suma (segundo elemento del input) entre el número 3\n",
    "(primer elemento del input) y el número 4 (tercer elemento del\n",
    "input).\n",
    "\n",
    "Para leer una línea de texto de la consola se usa la función \n",
    "input() que transforma el mensaje escrito por consola, en una cade-\n",
    "na de python de la siguiente forma:"
   ]
  },
  {
   "cell_type": "code",
   "execution_count": 2,
   "metadata": {},
   "outputs": [
    {
     "name": "stdout",
     "output_type": "stream",
     "text": [
      "¡ Hello World !\n"
     ]
    }
   ],
   "source": [
    "a = input()\n",
    "print(a)"
   ]
  },
  {
   "attachments": {},
   "cell_type": "markdown",
   "metadata": {},
   "source": [
    "Pero nosotros no queremos la string entera, sino tener cada elemen-\n",
    "to por separado.\n",
    "\n",
    "Para ello tenemos la función _split()_, donde le pasas una\n",
    "cadena y te devuelve cada elemento, usando un 'separador', que puede\n",
    "ser un espacio, una coma o la 'nada', que sería separar caracter por\n",
    "caracter la cadena escrita.\n",
    "\n",
    "Ejemplo de uso:"
   ]
  },
  {
   "cell_type": "code",
   "execution_count": 6,
   "metadata": {},
   "outputs": [],
   "source": [
    "lista = a.split(sep=' ')"
   ]
  },
  {
   "attachments": {},
   "cell_type": "markdown",
   "metadata": {},
   "source": [
    "Aquí lo que estamos haciendo es separar la cadena '¡ Hello World !'\n",
    "a medida que nos encontramos con un espacio así que si printeamos a..."
   ]
  },
  {
   "cell_type": "code",
   "execution_count": 7,
   "metadata": {},
   "outputs": [
    {
     "name": "stdout",
     "output_type": "stream",
     "text": [
      "['¡', 'Hello', 'World', '!']\n"
     ]
    }
   ],
   "source": [
    "print(lista)"
   ]
  },
  {
   "attachments": {},
   "cell_type": "markdown",
   "metadata": {},
   "source": [
    "### PASO 1.\n",
    "Añade el código necesario para printear una lista con los elementos\n",
    "_número1_, _operación_, _número2_, a partir de un input del estilo:\n",
    "                            \n",
    "    3 + 4\n",
    "\n",
    "Output: ['3', '+', '4']"
   ]
  },
  {
   "cell_type": "code",
   "execution_count": null,
   "metadata": {},
   "outputs": [],
   "source": []
  },
  {
   "attachments": {},
   "cell_type": "markdown",
   "metadata": {},
   "source": [
    "---\n",
    "Una vez obtenida la lista con los 3 elementos de la operación, debemos identificar de qué operación se trata. Ello lo podemos hacer accediendo al segundo elemento de la lista usando ```lista[1]```."
   ]
  },
  {
   "cell_type": "code",
   "execution_count": 1,
   "metadata": {},
   "outputs": [
    {
     "name": "stdout",
     "output_type": "stream",
     "text": [
      "+\n"
     ]
    }
   ],
   "source": [
    "l = ['3','+','4']\n",
    "print(l[1])"
   ]
  },
  {
   "attachments": {},
   "cell_type": "markdown",
   "metadata": {},
   "source": [
    "Dado que el valor es el símbolo ```+```, deberemos llamar a la función ```suma(num1,num2)``` que habrá que crear. Del mismo modo, habrá que crear otras 3 funciones:\n",
    "- ```resta(num1,num2)```\n",
    "- ```multiplica(num1,num2)```\n",
    "- ```divide(num1,num2)```"
   ]
  },
  {
   "attachments": {},
   "cell_type": "markdown",
   "metadata": {},
   "source": [
    "### PASO 2.\n",
    "Crea una estructura que, mediante *condicionales*, printee el resultado de llamar a la función correcta, dependiendo de la operación que el usuario haya escrito.\n",
    "\n",
    "_Recuerda que los elementos de la lista són cadenas. A veces te servirá, pero en otros casos..._\n",
    "\n",
    "Nota:\n",
    "Si ejecutas la celda y está creada correctamente, te saldrá un error ya que no reconoce la función (no está creada). No hace falta crear la función como tal, de eso ya nos encargaremos luego. \n"
   ]
  },
  {
   "cell_type": "code",
   "execution_count": null,
   "metadata": {},
   "outputs": [],
   "source": []
  },
  {
   "attachments": {},
   "cell_type": "markdown",
   "metadata": {},
   "source": [
    "---\n",
    "Enhorabuena! Ahora que ya tenemos la estructura, sólo nos faltan las funciones. Estas seran las 4 mencionadas que deben coger 2 _números_ como parámetros y _retornar_ el resultado de la operación.\n",
    "\n",
    "_Nota_: Son funciones muy sencillas, no te asustes. Se pueden hacer en una línea ;)"
   ]
  },
  {
   "attachments": {},
   "cell_type": "markdown",
   "metadata": {},
   "source": [
    "### PASO 3.\n",
    "Crea las funciones ```suma(num1,num2), resta(num1,num2), multiplica(num1,num2), divide(num1,num2)```."
   ]
  },
  {
   "cell_type": "code",
   "execution_count": null,
   "metadata": {},
   "outputs": [],
   "source": []
  },
  {
   "attachments": {},
   "cell_type": "markdown",
   "metadata": {},
   "source": [
    "---\n",
    "Genial! Ahora que tenemos todo el código necesario, unámoslo en una celda.\n",
    "### PASO 4.\n",
    "Agrupa todo el código de manera que se pueda usar la calculadora en un solo click!"
   ]
  },
  {
   "cell_type": "code",
   "execution_count": null,
   "metadata": {},
   "outputs": [],
   "source": []
  },
  {
   "attachments": {},
   "cell_type": "markdown",
   "metadata": {},
   "source": [
    "## SEGUNDA PARTE - Múltiples operaciones"
   ]
  },
  {
   "attachments": {},
   "cell_type": "markdown",
   "metadata": {},
   "source": [
    "A veces, cuando usamos una calculadora, queremos hacer más de una operación. Para ello hay una manera que es haciendo un bucle infinito que únicamente se pare cuando el usuario escriba 'Fin'.\n",
    "\n",
    "Prueba el siguiente código:"
   ]
  },
  {
   "cell_type": "code",
   "execution_count": 2,
   "metadata": {},
   "outputs": [
    {
     "name": "stdout",
     "output_type": "stream",
     "text": [
      "Sigo ejecutándome!\n"
     ]
    }
   ],
   "source": [
    "a = input()\n",
    "while a != 'Fin':\n",
    "    print('Sigo ejecutándome!')\n",
    "    a = input()"
   ]
  },
  {
   "attachments": {},
   "cell_type": "markdown",
   "metadata": {},
   "source": [
    "Dependiendo de las veces que hayas escrito algo distinto a 'Fin', te habran salido más o menos línias como output.\n",
    "\n",
    "### PASO 5.\n",
    "Siguiendo esta idea, amplía el código para poder realizar más de una operación a la vez."
   ]
  },
  {
   "cell_type": "code",
   "execution_count": null,
   "metadata": {},
   "outputs": [],
   "source": []
  }
 ],
 "metadata": {
  "kernelspec": {
   "display_name": "Python 3",
   "language": "python",
   "name": "python3"
  },
  "language_info": {
   "codemirror_mode": {
    "name": "ipython",
    "version": 3
   },
   "file_extension": ".py",
   "mimetype": "text/x-python",
   "name": "python",
   "nbconvert_exporter": "python",
   "pygments_lexer": "ipython3",
   "version": "3.10.5"
  },
  "orig_nbformat": 4,
  "vscode": {
   "interpreter": {
    "hash": "97a1cb7b875c85da53629d3c28515f9ec5a4d44ed5294b2f83c4586eb1a31b85"
   }
  }
 },
 "nbformat": 4,
 "nbformat_minor": 2
}
